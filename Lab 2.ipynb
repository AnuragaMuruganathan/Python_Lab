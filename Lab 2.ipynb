{
 "cells": [
  {
   "cell_type": "code",
   "execution_count": null,
   "id": "72fc3840",
   "metadata": {},
   "outputs": [],
   "source": [
    "#31.Create a list of tuples from given list having number and its cube in each tuple\n",
    "\n",
    "numbers = [1, 2, 3, 4, 5]\n",
    "\n",
    "result = [(num, num ** 3) for num in numbers]\n",
    "\n",
    "print(result)"
   ]
  },
  {
   "cell_type": "code",
   "execution_count": null,
   "id": "817016e5",
   "metadata": {},
   "outputs": [],
   "source": [
    "#32.Python | Sort Python Dictionaries by Key or Value\n",
    "\n",
    "my_dict = {'c': 3, 'a': 1, 'b': 2}\n",
    "\n",
    "sorted_dict = {k: v for k, v in sorted(my_dict.items(), key=lambda item: item[0])}\n",
    "\n",
    "print(\"Sort dictionaries by Key and value\")\n",
    "print(sorted_dict)\n",
    "\n"
   ]
  },
  {
   "cell_type": "code",
   "execution_count": null,
   "id": "e9980f81",
   "metadata": {},
   "outputs": [],
   "source": [
    "#33.Python dictionary with keys having multiple inputs\n",
    "\n",
    "my_dict = {('John', 25): 'USA', ('Alice', 30): 'Canada', ('Bob', 35): 'Australia'}\n",
    "print(my_dict[('John', 25)]) \n",
    "print(my_dict[('Alice', 30)])\n",
    "print(my_dict[('Bob', 35)])  "
   ]
  },
  {
   "cell_type": "code",
   "execution_count": null,
   "id": "9f0f0a37",
   "metadata": {},
   "outputs": [],
   "source": [
    "#34.Python program to find the sum of all items in a dictionary\n",
    "\n",
    "my_dict = {'a': 10, 'b': 20, 'c': 30, 'd': 40}\n",
    "sum_of_values = sum(my_dict.values())\n",
    "print(\"Sum of values:\", sum_of_values)"
   ]
  },
  {
   "cell_type": "code",
   "execution_count": null,
   "id": "a3751fd5",
   "metadata": {},
   "outputs": [],
   "source": [
    "#35.Python program to find the size of a Dictionary\n",
    "\n",
    "my_dict = {'a': 10, 'b': 20, 'c': 30, 'd': 40}\n",
    "dict_size = len(my_dict)\n",
    "\n",
    "print(\"Size of the dictionary:\", dict_size)"
   ]
  },
  {
   "cell_type": "code",
   "execution_count": null,
   "id": "7fd6b4e8",
   "metadata": {},
   "outputs": [],
   "source": [
    "#36.Find the size of a Set in Python\n",
    "\n",
    "my_set = {1, 2, 3, 4, 5}\n",
    "\n",
    "set_size = len(my_set)\n",
    "\n",
    "print(\"Size of the set:\", set_size)"
   ]
  },
  {
   "cell_type": "code",
   "execution_count": null,
   "id": "46e2063b",
   "metadata": {},
   "outputs": [],
   "source": [
    "#37.Iterate over a set in Python\n",
    "\n",
    "my_set = {1, 2, 3, 4, 5}\n",
    "\n",
    "for item in my_set:\n",
    "    print(item)"
   ]
  },
  {
   "cell_type": "code",
   "execution_count": null,
   "id": "d74100d3",
   "metadata": {},
   "outputs": [],
   "source": [
    "#38.Python – Maximum and Minimum in a Set\n",
    "\n",
    "my_set = {5, 2, 8, 1, 9}\n",
    "\n",
    "maximum_value = max(my_set)\n",
    "\n",
    "minimum_value = min(my_set)\n",
    "\n",
    "\n",
    "print(\"Maximum value:\", maximum_value)\n",
    "print(\"Minimum value:\", minimum_value)"
   ]
  },
  {
   "cell_type": "code",
   "execution_count": null,
   "id": "7058044e",
   "metadata": {},
   "outputs": [],
   "source": [
    "#39.Python – Remove items from Set\n",
    "\n",
    "my_set = {1, 2, 3, 4, 5}\n",
    "\n",
    "my_set.remove(3)\n",
    "print(my_set)\n",
    "\n",
    "my_set.discard(5)\n",
    "print(my_set)\n",
    "\n",
    "my_set.discard(10)\n",
    "print(my_set) \n"
   ]
  },
  {
   "cell_type": "code",
   "execution_count": null,
   "id": "b001701a",
   "metadata": {},
   "outputs": [],
   "source": [
    "#40.Python – Check if two lists have atleast one element common\n",
    "\n",
    "list1 = [1, 2, 3, 4, 5]\n",
    "list2 = [5, 6, 7, 8, 9]\n",
    "\n",
    "set1 = set(list1)\n",
    "set2 = set(list2)\n",
    "\n",
    "common_elements = set1.intersection(set2)\n",
    "\n",
    "if common_elements:\n",
    "    print(\"The lists have at least one common element.\")\n",
    "else:\n",
    "    print(\"The lists do not have any common elements.\")"
   ]
  },
  {
   "cell_type": "code",
   "execution_count": null,
   "id": "fb71e9e8",
   "metadata": {},
   "outputs": [],
   "source": [
    "#41.Python – Assigning Subsequent Rows to Matrix first row elements\n",
    "\n",
    "matrix = [[1, 2, 3],\n",
    "          [4, 5, 6],\n",
    "          [7, 8, 9]]\n",
    "\n",
    "result = [[matrix[0][col]] + row for col, row in enumerate(matrix[1:])]\n",
    "\n",
    "for row in result:\n",
    "    print(row)"
   ]
  },
  {
   "cell_type": "code",
   "execution_count": null,
   "id": "0b3bbe47",
   "metadata": {},
   "outputs": [],
   "source": [
    "#42.Adding and Subtracting Matrices in Python\n",
    "\n",
    "matrix1 = [[1, 2, 3],\n",
    "           [4, 5, 6],\n",
    "           [7, 8, 9]]\n",
    "\n",
    "matrix2 = [[9, 8, 7],\n",
    "           [6, 5, 4],\n",
    "           [3, 2, 1]]\n",
    "\n",
    "addition_result = [[matrix1[row][col] + matrix2[row][col] for col in range(len(matrix1[0]))] for row in range(len(matrix1))]\n",
    "\n",
    "subtraction_result = [[matrix1[row][col] - matrix2[row][col] for col in range(len(matrix1[0]))] for row in range(len(matrix1))]\n",
    "\n",
    "print(\"Addition Result:\")\n",
    "for row in addition_result:\n",
    "    print(row)\n",
    "\n",
    "print(\"Subtraction Result:\")\n",
    "for row in subtraction_result:\n",
    "    print(row)"
   ]
  },
  {
   "cell_type": "code",
   "execution_count": null,
   "id": "3ba9f486",
   "metadata": {},
   "outputs": [],
   "source": [
    "#43.Python – Group similar elements into Matrix\n",
    "\n",
    "elements = [1, 2, 3, 4, 2, 3, 1, 5, 4, 5]\n",
    "\n",
    "unique_elements = list(set(elements))\n",
    "\n",
    "grouped_matrix = [[element for element in elements if element == unique] for unique in unique_elements]\n",
    "\n",
    "for row in grouped_matrix:\n",
    "    print(row)"
   ]
  },
  {
   "cell_type": "code",
   "execution_count": null,
   "id": "c9c52ec0",
   "metadata": {},
   "outputs": [],
   "source": [
    "#44.Python – Row-wise element Addition in Tuple Matrix\n",
    "\n",
    "matrix = ((1, 2, 3),\n",
    "          (4, 5, 6),\n",
    "          (7, 8, 9))\n",
    "\n",
    "result = [sum(row) for row in matrix]\n",
    "\n",
    "for row in result:\n",
    "    print(row)"
   ]
  },
  {
   "cell_type": "code",
   "execution_count": null,
   "id": "6e104bf8",
   "metadata": {},
   "outputs": [],
   "source": [
    "#45.Create an n x n square matrix, where all the sub-matrix has the sum of opposite corner elements as even\n",
    "\n",
    "def create_even_submatrix(n):\n",
    "    matrix = [[0] * n for _ in range(n)]\n",
    "    \n",
    "    for i in range(n):\n",
    "        for j in range(n):\n",
    "            \n",
    "            opposite_i = n - 1 - i\n",
    "            opposite_j = n - 1 - j\n",
    "            matrix[i][j] = (opposite_i + opposite_j) % 2\n",
    "            \n",
    "    return matrix\n",
    "n = 4\n",
    "square_matrix = create_even_submatrix(n)\n",
    "for row in square_matrix:\n",
    "    print(row)\n"
   ]
  },
  {
   "cell_type": "code",
   "execution_count": null,
   "id": "6e43a056",
   "metadata": {},
   "outputs": [],
   "source": [
    "#46.How to get list of parameters name from a function in Python\n",
    "\n",
    "import inspect\n",
    "\n",
    "def my_function(param1, param2, param3):\n",
    "    pass\n",
    "\n",
    "parameters = inspect.signature(my_function).parameters\n",
    "parameter_names = list(parameters.keys())\n",
    "\n",
    "print(parameter_names)"
   ]
  },
  {
   "cell_type": "code",
   "execution_count": null,
   "id": "bcff5dd1",
   "metadata": {},
   "outputs": [],
   "source": [
    "#47.How to Print Multiple Arguments in Python\n",
    "\n",
    "arg1 = \"Hello\"\n",
    "arg2 = \"world\"\n",
    "arg3 = 2023\n",
    "\n",
    "print(arg1, arg2, arg3)"
   ]
  },
  {
   "cell_type": "code",
   "execution_count": null,
   "id": "f15abfae",
   "metadata": {},
   "outputs": [],
   "source": [
    "#48.Python program to find the power of a number using recursion\n",
    "\n",
    "def power(base, exponent):\n",
    "    if exponent == 0:\n",
    "        return 1\n",
    "    else:\n",
    "        return base * power(base, exponent - 1)\n",
    "    \n",
    "base = 2\n",
    "exponent = 5\n",
    "result = power(base, exponent)\n",
    "print(f\"{base} raised to the power of {exponent} is {result}\")"
   ]
  },
  {
   "cell_type": "code",
   "execution_count": null,
   "id": "afc283da",
   "metadata": {},
   "outputs": [],
   "source": [
    "#49.Sorting objects of user defined class in Python\n",
    "\n",
    "class MyClass:\n",
    "    def __init__(self, value):\n",
    "        self.value = value\n",
    "\n",
    "    def __repr__(self):\n",
    "        return f'MyClass({self.value})'\n",
    "    \n",
    "my_list = [MyClass(5), MyClass(2), MyClass(8), MyClass(1)]\n",
    "\n",
    "sorted_list = sorted(my_list, key=lambda x: x.value)\n",
    "\n",
    "for obj in sorted_list:\n",
    "    print(obj)"
   ]
  },
  {
   "cell_type": "code",
   "execution_count": null,
   "id": "4a717719",
   "metadata": {},
   "outputs": [],
   "source": [
    "#50.Functions that accept variable length key value pair as arguments\n",
    "\n",
    "def my_function(**kwargs):\n",
    "    for key, value in kwargs.items():\n",
    "        print(f\"{key}: {value}\")\n",
    "        \n",
    "my_function(name=\"John\", age=25, city=\"New York\")"
   ]
  }
 ],
 "metadata": {
  "kernelspec": {
   "display_name": "Python 3 (ipykernel)",
   "language": "python",
   "name": "python3"
  },
  "language_info": {
   "codemirror_mode": {
    "name": "ipython",
    "version": 3
   },
   "file_extension": ".py",
   "mimetype": "text/x-python",
   "name": "python",
   "nbconvert_exporter": "python",
   "pygments_lexer": "ipython3",
   "version": "3.10.9"
  }
 },
 "nbformat": 4,
 "nbformat_minor": 5
}
