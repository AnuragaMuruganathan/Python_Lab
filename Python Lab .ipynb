{
 "cells": [
  {
   "cell_type": "code",
   "execution_count": null,
   "id": "0c4d350f",
   "metadata": {},
   "outputs": [],
   "source": [
    "#Display “Hello World” in your output screen\n",
    "\n",
    "print(\"Hello World\")"
   ]
  },
  {
   "cell_type": "code",
   "execution_count": null,
   "id": "adce1428",
   "metadata": {},
   "outputs": [],
   "source": [
    "#Get the input from the user and perform addition of two numbers\n",
    "\n",
    "x = int(input(\"Enter the value of A:\"))\n",
    "y = int(input(\"Enter the value of B:\"))\n",
    "\n",
    "sum = x + y\n",
    "\n",
    "print(\"After Adding:\",sum)"
   ]
  },
  {
   "cell_type": "code",
   "execution_count": null,
   "id": "194920cf",
   "metadata": {},
   "outputs": [],
   "source": [
    "#swap two variables without temp variable\n",
    "\n",
    "\n",
    "x = int(input(\"Enter the value of A:\"))\n",
    "y = int(input(\"Enter the value of B:\"))\n",
    "\n",
    "x , y = y , x\n",
    "\n",
    "print(\"After Swapping:\",x,y)"
   ]
  },
  {
   "cell_type": "code",
   "execution_count": null,
   "id": "9dc66a19",
   "metadata": {},
   "outputs": [],
   "source": [
    "#convert the entered kilometres ( Convertion  Factor= 0.621371)\n",
    "\n",
    "km = float(input(\"Enter the value in Kilometers:\"))\n",
    "\n",
    "cf = 0.621371\n",
    "\n",
    "m = km * cf\n",
    "\n",
    "print('%0.2f km is equal to %0.2f miles'%(km,m))"
   ]
  },
  {
   "cell_type": "code",
   "execution_count": null,
   "id": "21b2934d",
   "metadata": {},
   "outputs": [],
   "source": [
    "#check whether the given number is positive, negative or 0\n",
    "\n",
    "a = int(input(\"Enter a number:\"))\n",
    "\n",
    "if a > 0:\n",
    "    print(\"Positive number\")\n",
    "elif a == 0:\n",
    "    print(\"Zero\")\n",
    "else:\n",
    "    print(\"Negative number\")"
   ]
  },
  {
   "cell_type": "code",
   "execution_count": 1,
   "id": "ca8b7ed1",
   "metadata": {},
   "outputs": [
    {
     "name": "stdout",
     "output_type": "stream",
     "text": [
      "Enter the year:2004\n",
      "Leap Year\n"
     ]
    }
   ],
   "source": [
    "#verify that the given year is a leap year\n",
    "\n",
    "a = int(input(\"Enter the year:\"))\n",
    "\n",
    "if (a % 4 == 0):\n",
    "    print(\"Leap Year\")\n",
    "else:\n",
    "    print(\"Not a leap year\")"
   ]
  },
  {
   "cell_type": "code",
   "execution_count": null,
   "id": "75c4b90d",
   "metadata": {},
   "outputs": [],
   "source": [
    "#display the prime numbers within the given interval\n",
    "\n",
    "a = int(input(\"Enter the lower range:\"))\n",
    "b = int(input(\"Enter the higher range:\"))\n",
    "\n",
    "print(\"prime number between\",a,\"to\",b,\"are\")\n",
    "\n",
    "for num in range(a,b+1):\n",
    "    for i in range(2,num):\n",
    "        if(num%i==0):\n",
    "            break\n",
    "        else:            \n",
    "            print(num)"
   ]
  },
  {
   "cell_type": "code",
   "execution_count": null,
   "id": "7d92524d",
   "metadata": {},
   "outputs": [],
   "source": [
    "#display the Fibonacci sequence up to n-th term\n",
    "\n",
    "a = int(input(\"Enter the range:\"))\n",
    "\n",
    "n1 , n2 = 0 , 1\n",
    "\n",
    "c = 0\n",
    "\n",
    "if a < = 0:\n",
    "    print(\"Enter a positive integer\")\n",
    "elif a == 1:\n",
    "    print(\"Fibonacci sequence upto \",a \":\")\n",
    "    print(n1)\n",
    "else:\n",
    "    print(\"Fibonacci sequence:\")\n",
    "\n",
    "    while c < a :\n",
    "        print(n1)\n",
    "        n = n1 + n2\n",
    "        n1 = n2\n",
    "        n2 = n\n",
    "        c += 1"
   ]
  },
  {
   "cell_type": "code",
   "execution_count": null,
   "id": "0831b46d",
   "metadata": {},
   "outputs": [],
   "source": [
    "#check if the number is an Armstrong number or not\n",
    "\n",
    "a = int(input(\"Enter the value:\"))\n",
    "\n",
    "sum = 0\n",
    "\n",
    "temp = a\n",
    "\n",
    "while temp > 0:\n",
    "    digit = temp % 10\n",
    "    sum += digit ** 3\n",
    "    temp = temp // 10\n",
    "    \n",
    "if a == sum:\n",
    "    print(a,\"is an Amstrong number\")\n",
    "else:\n",
    "    print(a,\"is not an Amstrong number\")"
   ]
  },
  {
   "cell_type": "code",
   "execution_count": null,
   "id": "37465441",
   "metadata": {},
   "outputs": [],
   "source": [
    "#Find the Sum of natural numbers up to n-th term\n",
    "\n",
    "num = int(input(\"Enter the value:\"))\n",
    "\n",
    "if num < 0:\n",
    "    print(\"Enter a positive number:\")\n",
    "else:\n",
    "    sum = 0\n",
    "    while (num > 0):\n",
    "        sum += num\n",
    "        num -= 1\n",
    "    print(\"The sum is\",sum)"
   ]
  },
  {
   "cell_type": "code",
   "execution_count": null,
   "id": "120a9712",
   "metadata": {},
   "outputs": [],
   "source": [
    "#Write a function called show_stars(rows). If rows are 5, it should print the following:\n",
    "'''\n",
    "* \n",
    "**\n",
    "***\n",
    "****\n",
    "*****\n",
    "'''\n",
    "def part(n):\n",
    "    for i in range (0,n):\n",
    "        for j in range (0,i+1):\n",
    "            print(\"*\",end = \" \")\n",
    "        print(\"\\r\")\n",
    "        \n",
    "n = int(input(\"Enter the range:\"))\n",
    "part(n)\n"
   ]
  },
  {
   "cell_type": "code",
   "execution_count": null,
   "id": "9a6bc7ef",
   "metadata": {},
   "outputs": [],
   "source": [
    "#Write a program to remove characters from a string starting from zero up to n and return a new string.\n",
    "\n",
    "def remove_character(string,n):\n",
    "    if n > = len(string):\n",
    "        return \" \"\n",
    "    else:\n",
    "        return string[n+1:]\n",
    "\n",
    "input_string = input(\"Enter a string:\")\n",
    "index = int(input(\"Enter the index to remove characters upto:\"))\n",
    "\n",
    "new_string = remove_character(input_string,index)\n",
    "print(\"New string:\",new_string)"
   ]
  },
  {
   "cell_type": "code",
   "execution_count": null,
   "id": "5bcada21",
   "metadata": {},
   "outputs": [],
   "source": [
    "#Iterate the given list of numbers and print only those numbers which are divisible by 5\n",
    "\n",
    "number = [10,3,25,6,20,15,7,30]\n",
    "for num in number:\n",
    "    if num % 5 == 0:\n",
    "        print(num)"
   ]
  },
  {
   "cell_type": "code",
   "execution_count": null,
   "id": "b0426b5a",
   "metadata": {},
   "outputs": [],
   "source": [
    "#write a program to find how many times substring “Hi” appears in the given string.\n",
    "\n",
    "string = \"Hi there! Hi, how are you? I'm doing fine, thanks for asking!\"\n",
    "\n",
    "count = string.count(\"Hi\")\n",
    "print(\"The substring 'Hi' appears\",count,\"times in the given string\")"
   ]
  },
  {
   "cell_type": "code",
   "execution_count": null,
   "id": "c05ad0e8",
   "metadata": {},
   "outputs": [],
   "source": [
    "#Print the following pattern\n",
    "''' \n",
    "1 \n",
    "2 2 \n",
    "3 3 3 \n",
    "4 4 4 4 \n",
    "5 5 5 5 5\n",
    "'''\n",
    "\n",
    "rows = int(input(\"Enter the range:\"))\n",
    "for i in range(1,rows+1):\n",
    "    for j in range(i):\n",
    "        print(i,end= \" \")\n",
    "        print( )"
   ]
  },
  {
   "cell_type": "code",
   "execution_count": null,
   "id": "78b82fd9",
   "metadata": {},
   "outputs": [],
   "source": [
    "#Write a program to check if the given number is a palindrome number.\n",
    "#(A palindrome number is a number that is same after reverse. For example, 545, is the palindrome numbers)\n",
    "\n",
    "def is_palindrome(num):\n",
    "    num_str = str(num)\n",
    "    reversed_str = num_str[::-1]\n",
    "    if num_str == reversed_str:\n",
    "        return True\n",
    "    else: \n",
    "        return False \n",
    "    \n",
    "a=int(input(\"Enter the value:\"))\n",
    "\n",
    "if is_palindrome(a):\n",
    "    print(\"Yes,It is a Palindrom\")\n",
    "else:\n",
    "    print(\"No, It's not a Palindrom\")\n",
    "    \n"
   ]
  },
  {
   "cell_type": "code",
   "execution_count": null,
   "id": "c185a353",
   "metadata": {},
   "outputs": [],
   "source": [
    "#Python program to interchange first and last elements in a list\n",
    "\n",
    "my_list = [15,86,95,76,73,64]\n",
    "\n",
    "print(\"Initial list: \")\n",
    "print(my_list)\n",
    "\n",
    "my_list[0], my_list[-1] = my_list[-1], my_list[0]\n",
    "\n",
    "print(\"Updated list after swapping:\")\n",
    "print(my_list)\n"
   ]
  },
  {
   "cell_type": "code",
   "execution_count": null,
   "id": "4e0bcb47",
   "metadata": {},
   "outputs": [],
   "source": [
    "#Swapping of two numbers in a list\n",
    "\n",
    "my_list = [58,75,69,37,25,589]\n",
    "\n",
    "print(\"The initial list is:\")\n",
    "print(my_list)\n",
    "\n",
    "i1 =int(input(\"Enter i1:\"))\n",
    "i2 =int(input(\"Enter i2:\"))\n",
    "\n",
    "temp = my_list[i1]\n",
    "\n",
    "my_list[i1] = my_list[i2]\n",
    "\n",
    "my_list[i2] = temp\n",
    "\n",
    "print(\"The Updated list is:\")\n",
    "print(my_list)\n"
   ]
  },
  {
   "cell_type": "code",
   "execution_count": null,
   "id": "6c7600b0",
   "metadata": {},
   "outputs": [],
   "source": [
    "\n",
    "#Python Ways to find length of list\n",
    "\n",
    "my_list = [100,200,300,400,500]\n",
    "print(\"My list elements: \")\n",
    "print(my_list)\n",
    "length = len(my_list)\n",
    "print(\"The total length of my list is: \")\n",
    "print(length)\n"
   ]
  },
  {
   "cell_type": "code",
   "execution_count": null,
   "id": "eceb51a7",
   "metadata": {},
   "outputs": [],
   "source": [
    "#Maximum of two numbers in Python\n",
    "\n",
    "a=int(input(\"Enter the value of a:\"))\n",
    "b=int(input(\"Enter the value of b:\"))\n",
    "if(a>b):\n",
    "    print (\"a is greater\")\n",
    "else:\n",
    "    print(\"b is greater\")"
   ]
  },
  {
   "cell_type": "code",
   "execution_count": null,
   "id": "72896faf",
   "metadata": {},
   "outputs": [],
   "source": [
    "#Minimum of two numbers in Python\n",
    "\n",
    "a=int(input(\"Enter the value of a:\"))\n",
    "b=int(input(\"Enter the value of b:\"))\n",
    "if(a<b):\n",
    "     print (\"a is smaller\")\n",
    "else:\n",
    "     print(\"b is smaller\")\n"
   ]
  },
  {
   "cell_type": "code",
   "execution_count": null,
   "id": "7e6cd600",
   "metadata": {},
   "outputs": [],
   "source": [
    "#Python program to check whether the string is Symmetrical or Palindrome\n",
    "\n",
    "my_string = input(\"Enter the string:\")\n",
    "symmetrical = my_string == my_string[::-1]\n",
    "palindrome = my_string == \"\".join(reversed(my_string))\n",
    "if symmetrical:\n",
    "    print(\"The string is symmetrical\")\n",
    "else:\n",
    "    print(\"The string is not symmetrical\")\n",
    "if palindrome:\n",
    "    print(\"The string is a palindrome\")\n",
    "else:\n",
    "    print(\"The string is not a palindrome\")\n"
   ]
  },
  {
   "cell_type": "code",
   "execution_count": null,
   "id": "69f33cff",
   "metadata": {},
   "outputs": [],
   "source": [
    "#Reverse words in a given String in Python\n",
    "my_string = \"Python Programming\"\n",
    "print(\"My initial string is:\")\n",
    "print(my_string)\n",
    "words = my_string.split()\n",
    "words.reverse()\n",
    "new_string = \" \".join(words)\n",
    "print(\"My reversed string is:\")\n",
    "print(new_string)\n"
   ]
  },
  {
   "cell_type": "code",
   "execution_count": null,
   "id": "59a2ad3a",
   "metadata": {},
   "outputs": [],
   "source": [
    "#Ways to remove i’th character from string in Python\n",
    "\n",
    "my_string = \"Hello!\"\n",
    "index_to_remove =int(input(\"Enter the index number to be re moved:\"))\n",
    "new_string = my_string[:index_to_remove] + my_string[index_to_remove+1:]\n",
    "print(new_string)\n"
   ]
  },
  {
   "cell_type": "code",
   "execution_count": null,
   "id": "56e775e9",
   "metadata": {},
   "outputs": [],
   "source": [
    "#Find length of a string in python \n",
    "\n",
    "my_string = \"hello world\"\n",
    "string_length = len(my_string)\n",
    "print(\"Length of my string is:\")\n",
    "print(string_length)"
   ]
  },
  {
   "cell_type": "code",
   "execution_count": null,
   "id": "06966577",
   "metadata": {},
   "outputs": [],
   "source": [
    "#Python program to print even length words in a string\n",
    "\n",
    "n=input(\"Enter your string:\")\n",
    "s=n.split(\" \")\n",
    "print(\"The even indexed strings are:\")\n",
    "for i in s:\n",
    "    \n",
    "#checking the length of words\n",
    "    if len(i)%2==0:\n",
    "        \n",
    "        print(i)"
   ]
  },
  {
   "cell_type": "code",
   "execution_count": null,
   "id": "e6f80b30",
   "metadata": {},
   "outputs": [],
   "source": [
    "#27.Python program to Find the size of a Tuple\n",
    "\n",
    "import sys\n",
    "\n",
    "# Define a tuple\n",
    "\n",
    "my_tuple = ('keerthana',2005)\n",
    "\n",
    "# Get the size of the tuple in bytes\n",
    "\n",
    "size = sys.getsizeof(my_tuple)\n",
    "\n",
    "# Print the size in bytes\n",
    "\n",
    "print(f\"The size of the tuple is {size} bytes\")\n"
   ]
  },
  {
   "cell_type": "code",
   "execution_count": null,
   "id": "2eca6c72",
   "metadata": {},
   "outputs": [],
   "source": [
    "#28.Python – Maximum and Minimum K elements in Tuple\n",
    "\n",
    "import heapq\n",
    "\n",
    "def find_k_largest_smallest_elements(k, my_tuple):\n",
    "    \n",
    "# Find the k largest elements using the nlargest function\n",
    "\n",
    "  largest_elements = heapq.nlargest(k, my_tuple)\n",
    "    \n",
    "# Find the k smallest elements using the nsmallest function\n",
    "\n",
    "  smallest_elements = heapq.nsmallest(k, my_tuple)\n",
    " \n",
    "  return largest_elements, smallest_elements\n",
    "my_tuple = (10,20,30,40,50,60,70,80,90,100)\n",
    "\n",
    "k=int(input(\"Enter no. of elements needed:\"))\n",
    "\n",
    "largest, smallest = find_k_largest_smallest_elements(k, my_tuple)\n",
    "\n",
    "print(f\"The {k} largest elements in the tuple are: {largest}\")\n",
    "print(f\"The {k} smallest elements in the tuple are: {smallest}\")"
   ]
  },
  {
   "cell_type": "code",
   "execution_count": null,
   "id": "db1fb7d2",
   "metadata": {},
   "outputs": [],
   "source": [
    "#29.Python – Sum of tuple elements\n",
    "\n",
    "my_tuple=(20,40,50,60,80)\n",
    "print(\"Tuple=\",my_tuple)\n",
    "sum_of_tuple = sum(my_tuple)\n",
    "print(\"The sum of my tuple elements is:\", sum_of_tuple)"
   ]
  },
  {
   "cell_type": "code",
   "execution_count": null,
   "id": "2b6236ae",
   "metadata": {},
   "outputs": [],
   "source": [
    "#30.Python – Row-wise element Addition in Tuple Matrix\n",
    "\n",
    "matrix = ((1,2,3),(4,5,6),(7,8,9))\n",
    "print(\"My row matrix:\",matrix)\n",
    "print(\"The sum of each row matrix is:\")\n",
    "for row in matrix:\n",
    "     row_sum = sum(row)\n",
    "     print(row_sum)"
   ]
  }
 ],
 "metadata": {
  "kernelspec": {
   "display_name": "Python 3 (ipykernel)",
   "language": "python",
   "name": "python3"
  },
  "language_info": {
   "codemirror_mode": {
    "name": "ipython",
    "version": 3
   },
   "file_extension": ".py",
   "mimetype": "text/x-python",
   "name": "python",
   "nbconvert_exporter": "python",
   "pygments_lexer": "ipython3",
   "version": "3.10.9"
  }
 },
 "nbformat": 4,
 "nbformat_minor": 5
}
